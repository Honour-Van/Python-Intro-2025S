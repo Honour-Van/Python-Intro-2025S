{
 "cells": [
  {
   "cell_type": "markdown",
   "metadata": {},
   "source": [
    "# 第4次习题课讲义\n",
    "\n",
    "本次讲解作业2的难点，复习分支相关理解误区，讲解循环例题，并现场进行作业3的试做和答疑。"
   ]
  },
  {
   "cell_type": "markdown",
   "metadata": {},
   "source": [
    "## 分支复习\n",
    "\n",
    "### 基本语法：关键字\n",
    "\n",
    "Python 使用 `if`、`elif` 和 `else` 三个关键字来进行条件判断。\n",
    "\n",
    "本文中我们称判断一个互斥条件的部分构成一个基本的**条件分支语句块**，比如接下来这个示例："
   ]
  },
  {
   "cell_type": "code",
   "execution_count": 1,
   "metadata": {},
   "outputs": [
    {
     "name": "stdout",
     "output_type": "stream",
     "text": [
      "x 是正数\n"
     ]
    }
   ],
   "source": [
    "x = 10\n",
    "if x > 0:\n",
    "    print(\"x 是正数\")\n",
    "elif x == 0:\n",
    "    print(\"x 是零\")\n",
    "else:\n",
    "    print(\"x 是负数\")"
   ]
  },
  {
   "cell_type": "markdown",
   "metadata": {},
   "source": [
    "当然，如果将elif视为else和if的耦合，那它也似乎成为了两个基本语句块的嵌套，但是这两种在逻辑上是等价的，因而产生了一个潜在的误导。所以对于一个变量不要这样写："
   ]
  },
  {
   "cell_type": "code",
   "execution_count": 2,
   "metadata": {},
   "outputs": [
    {
     "name": "stdout",
     "output_type": "stream",
     "text": [
      "x 是正数\n"
     ]
    }
   ],
   "source": [
    "# 不推荐\n",
    "x = 10\n",
    "if x > 0:\n",
    "    print(\"x 是正数\")\n",
    "else:\n",
    "    if x == 0:\n",
    "        print(\"x 是零\")\n",
    "    else:\n",
    "        print(\"x 是负数\")"
   ]
  },
  {
   "cell_type": "markdown",
   "metadata": {},
   "source": [
    "一个独立/互斥的条件判断写在同一个语句块里，减少对自己的误导。上述不推荐版本中就有两层缩进，就将其视为两个代码块嵌套。"
   ]
  },
  {
   "cell_type": "markdown",
   "metadata": {},
   "source": [
    "### 判断条件：bool值\n",
    "\n",
    "`if`分支的目标是判断一个条件是否成立，本质是判断语句中的**bool值**的真假（等同于中学数学中命题的真假）。\n",
    "\n",
    "使用以下基本运算符之后，一个表达式的值就成为bool值：\n",
    "```python\n",
    "==  # 等于\n",
    "!=  # 不等于\n",
    ">   # 大于\n",
    "<   # 小于\n",
    ">=  # 大于等于\n",
    "<=  # 小于等于\n",
    "```"
   ]
  },
  {
   "cell_type": "code",
   "execution_count": 3,
   "metadata": {},
   "outputs": [
    {
     "name": "stdout",
     "output_type": "stream",
     "text": [
      "a == 1: True\n",
      "a != 2: True\n",
      "a > 2: False\n",
      "b = a == 1: True\n"
     ]
    }
   ],
   "source": [
    "a = 1\n",
    "print(\"a == 1:\", a == 1)\n",
    "print(\"a != 2:\", a != 2)\n",
    "print(\"a > 2:\", a > 2)\n",
    "b = a == 1\n",
    "print(\"b = a == 1:\", b)"
   ]
  },
  {
   "cell_type": "markdown",
   "metadata": {},
   "source": [
    "Python 里，以下值会被视为 False：\n",
    "```Python\n",
    "False, None, 0, 0.0, \"\", [], {}, set(), range(0)\n",
    "```"
   ]
  },
  {
   "cell_type": "code",
   "execution_count": 4,
   "metadata": {},
   "outputs": [
    {
     "name": "stdout",
     "output_type": "stream",
     "text": [
      "False\n",
      "False\n",
      "False\n",
      "False\n",
      "False\n"
     ]
    }
   ],
   "source": [
    "print(False)\n",
    "print(bool(None))\n",
    "print(bool(0))\n",
    "print(bool(\"\"))\n",
    "print(bool(range(0)))"
   ]
  },
  {
   "cell_type": "markdown",
   "metadata": {},
   "source": [
    "python也支持逻辑学中的与（^）、或（∨）、非（¬）运算，分别使用`and`、`or`和`not`。"
   ]
  },
  {
   "cell_type": "code",
   "execution_count": 5,
   "metadata": {},
   "outputs": [
    {
     "name": "stdout",
     "output_type": "stream",
     "text": [
      "b: True\n",
      "c: False\n",
      "b and c: False\n",
      "b or c: True\n",
      "not c: True\n"
     ]
    }
   ],
   "source": [
    "a = 1\n",
    "b = a == 1\n",
    "c = bool(0)\n",
    "print(\"b:\", b)\n",
    "print(\"c:\", c)\n",
    "print(\"b and c:\", b and c)\n",
    "print(\"b or c:\", b or c)\n",
    "print(\"not c:\", not c)"
   ]
  },
  {
   "cell_type": "markdown",
   "metadata": {},
   "source": [
    "### 分支的并列和嵌套\n",
    "值得注意的是，在 同一个 `if-elif-else` 语句块中，只会执行**第一个满足条件**的分支，其余分支将被跳过。因此，`if-elif-else` 适用于 **多个互斥条件** 的情况，而 不能用于**同时满足多个独立条件** 的判断。\n",
    "\n",
    "比如这个例子，10不可能同时为正数、零和负数，所以称为互斥的。这种情况就适合用**一个分支语句块**来做："
   ]
  },
  {
   "cell_type": "code",
   "execution_count": 6,
   "metadata": {},
   "outputs": [
    {
     "name": "stdout",
     "output_type": "stream",
     "text": [
      "x 是正数\n"
     ]
    }
   ],
   "source": [
    "x = 10\n",
    "if x > 0:\n",
    "    print(\"x 是正数\")\n",
    "elif x == 0:\n",
    "    print(\"x 是零\")\n",
    "else:\n",
    "    print(\"x 是负数\")"
   ]
  },
  {
   "cell_type": "markdown",
   "metadata": {},
   "source": [
    "\n",
    "如下是一个错误示例（仅执行第一个满足条件的分支）:"
   ]
  },
  {
   "cell_type": "code",
   "execution_count": 7,
   "metadata": {},
   "outputs": [
    {
     "name": "stdout",
     "output_type": "stream",
     "text": [
      "x 是正数\n"
     ]
    }
   ],
   "source": [
    "# 错误示例\n",
    "x = 10\n",
    "y = 5\n",
    "\n",
    "if x > 0:\n",
    "    print(\"x 是正数\")\n",
    "elif y > 0:\n",
    "    print(\"y 是正数\")"
   ]
  },
  {
   "cell_type": "markdown",
   "metadata": {},
   "source": [
    "尽管 `y > 0` 也是 True，但由于 `x > 0` 先被满足，程序不会执行 `elif y > 0` 这一分支。\n",
    "\n",
    "如果需要对 **多个独立的条件**（一件事情的不同角度） 进行判断，可以使用以下几种方法：\n",
    "\n",
    "#### 1. 并列多个 `if` 语句\n",
    "👉 适用于多个独立条件都需要执行的情况。 \n",
    "\n",
    "x > 0 和 y > 0 都是 独立事件，都需要执行。"
   ]
  },
  {
   "cell_type": "code",
   "execution_count": 8,
   "metadata": {},
   "outputs": [
    {
     "name": "stdout",
     "output_type": "stream",
     "text": [
      "x 是正数\n",
      "y 是正数\n"
     ]
    }
   ],
   "source": [
    "\n",
    "x = 10\n",
    "y = 5\n",
    "\n",
    "if x > 0:\n",
    "    print(\"x 是正数\")\n",
    "else:\n",
    "    print(\"x 不是正数\")\n",
    "if y > 0:\n",
    "    print(\"y 是正数\")\n",
    "else:\n",
    "    print(\"y 不是正数\")"
   ]
  },
  {
   "cell_type": "markdown",
   "metadata": {},
   "source": [
    "#### 2. 嵌套 `if` 语句\n",
    "\n",
    "👉 适用于在一个条件满足的基础上再细分的情况\n",
    "\n",
    "需要 **在一个条件成立的基础上** 继续细分判断。在有多个独立条件的情况下，它实际上改变了条件之间的优先关系。\n",
    "\n",
    "比如以下示例中，`x`就被视为了一个更重要的独立变量，如果`x`不是正数，接下来的判断就不做了："
   ]
  },
  {
   "cell_type": "code",
   "execution_count": 9,
   "metadata": {},
   "outputs": [
    {
     "name": "stdout",
     "output_type": "stream",
     "text": [
      "x 是正数\n"
     ]
    }
   ],
   "source": [
    "x = 10\n",
    "y = -5\n",
    "\n",
    "if x > 0:\n",
    "    print(\"x 是正数\")\n",
    "    if y > 0:\n",
    "        print(\"y 也是正数\")"
   ]
  },
  {
   "cell_type": "markdown",
   "metadata": {},
   "source": [
    "如果需要建立和原先等同的逻辑，需要重复低优先级的条件："
   ]
  },
  {
   "cell_type": "code",
   "execution_count": 10,
   "metadata": {},
   "outputs": [
    {
     "name": "stdout",
     "output_type": "stream",
     "text": [
      "x 是正数\n",
      "y 不是正数\n"
     ]
    }
   ],
   "source": [
    "x = 10\n",
    "y = -5\n",
    "\n",
    "if x > 0:\n",
    "    print(\"x 是正数\")\n",
    "    if y > 0:\n",
    "        print(\"y 也是正数\")\n",
    "    else:\n",
    "        print(\"y 不是正数\")\n",
    "else:\n",
    "    print(\"x 不是正数\")\n",
    "    if y > 0:\n",
    "        print(\"y 是正数\")\n",
    "    else:\n",
    "        print(\"y 也不是正数\")\n"
   ]
  },
  {
   "cell_type": "markdown",
   "metadata": {},
   "source": [
    "#### 3. bool值穷举"
   ]
  },
  {
   "cell_type": "markdown",
   "metadata": {},
   "source": [
    "👉 适用场景：当不同变量的组合情况有限且复杂时，可以用 bool值穷举 来明确所有可能的情况。"
   ]
  },
  {
   "cell_type": "code",
   "execution_count": 11,
   "metadata": {},
   "outputs": [
    {
     "name": "stdout",
     "output_type": "stream",
     "text": [
      "x 是正数，y 不是正数\n"
     ]
    }
   ],
   "source": [
    "x = 10\n",
    "y = -5\n",
    "\n",
    "if x > 0 and y > 0:\n",
    "    print(\"x 和 y 都是正数\")\n",
    "elif x > 0 and y <= 0:\n",
    "    print(\"x 是正数，y 不是正数\")\n",
    "elif x <= 0 and y > 0:\n",
    "    print(\"x 不是正数，y 是正数\")\n",
    "else:\n",
    "    print(\"x 和 y 都不是正数\")\n"
   ]
  },
  {
   "cell_type": "markdown",
   "metadata": {},
   "source": [
    "理论上，这个方法是一定可行的，它等同于给一个命题的组合绘制真值表，每一个条件都是独立的。\n",
    "\n",
    "| x > 0 | y > 0 | 结果                      |\n",
    "|:-----:|:-----:|:------------------------|\n",
    "|  True  |  True  | x 和 y 都是正数         |\n",
    "|  True  | False | x 是正数，y 不是正数     |\n",
    "| False  |  True  | x 不是正数，y 是正数     |\n",
    "| False  | False | x 和 y 都不是正数       |\n"
   ]
  },
  {
   "cell_type": "markdown",
   "metadata": {},
   "source": [
    "### 综合题讲解：作业2第五题\n",
    "\n",
    "这道题综合运用了独立条件的并列、组合，以及bool值的特性。\n",
    "\n",
    "#### 描述\n",
    "\n",
    "> 在小说《沙丘》的世界中，\"李桑-阿尔·盖布\"(Lisan al Gaib)是弗雷曼人预言中的救世主。假如为了验证一个人是否是真正的\"李桑-阿尔·盖布\"，需要通过三个测试:\n",
    ">1. 沙丘测试:在沙丘上行走10公里,如果速度超过15公里/小时（>15）,则通过测试；\n",
    ">2. 骑行测试:驾驭一只成年沙虫,如果骑行时间超过30分钟（>30）,则通过测试；\n",
    ">3. 毒水测试:饮用一剂\"生命之水\",如果昏迷时间在5h内,则通过测试，超过5h（>5）或死亡则不通过。\n",
    ">\n",
    ">请你编写一个程序,根据一个人在这三个测试中的表现,判断他是否有可能是\"李桑-阿尔·盖布\"。 \n",
    "\n",
    "我们注意到，这三个条件实际上都是**独立**而非互斥的。对应到前文的讲述，我们至少不能只用一个if分支语句块就解决掉问题。判断测试通过与否的代码框架：\n",
    "```python\n",
    "if speed > 15:\n",
    "    # 测试1通过啦\n",
    "if ride > 30:\n",
    "    # 测试2通过啦\n",
    "if 0 <= water <= 5:\n",
    "    # 测试3通过啦\n",
    "```"
   ]
  },
  {
   "cell_type": "markdown",
   "metadata": {},
   "source": [
    "#### 输入\n",
    ">三行,每行包含一个整数,分别表示\n",
    ">1. 在沙丘测试中的速度(公里/小时)\n",
    ">2. 骑行测试的持续时间(分钟)\n",
    ">3. 毒水测试的昏迷时间(小时),如果昏迷时间为-1表示死亡。\n",
    "\n",
    "输入是OJ对你的品质保证，它说是整数就一定是整数。输入部分的代码很简单：\n",
    "\n",
    "```python\n",
    "speed = int(input())\n",
    "ride = int(input())\n",
    "water = int(input())\n",
    "```"
   ]
  },
  {
   "cell_type": "markdown",
   "metadata": {},
   "source": [
    "#### 输出\n",
    ">一行字符串,表示对这个人是否是\"李桑-阿尔·盖布\"的判断：\n",
    ">- 如果服用“生命之水”后**死亡**，一定不是\"李桑-阿尔·盖布\"，输出“NO”；\n",
    ">- 如果**三个**测试都通过，则他很有可能是\"李桑-阿尔·盖布\"，输出”YES“；\n",
    ">- 如果只通过了**两个**测试，则他有一定可能是\"李桑-阿尔·盖布\"，但还需要更多的证据，输出“MAYBE”；\n",
    ">- 如果只通过了**一个或零个**测试，则他不太可能是\"李桑-阿尔·盖布\"，输出“NO”。\n",
    "\n",
    "本题的解题要点是，我们发现虽然有四个命题，但其实是两个独立的判断，**死亡与否**，和**通过测试的数量**；同时，死亡与否的判断优先级很高。\n",
    "\n",
    "前面的讲解中提到，有三种方法。有优先级的条件，比较典型的可以使用分支嵌套。第一层分支判断高优条件（死亡与否），第二层分支判断低优条件（通过测试的数量）。\n",
    "\n",
    "我们假定服用生命之水之后的生存时间是`water`，通过测试的数量是`count`，输出部分的代码使用嵌套方式就可以写成这样：\n",
    "\n",
    "```python\n",
    "if water == -1:\n",
    "    print(\"NO\")\n",
    "else:\n",
    "    if count == 3:\n",
    "        print(\"YES\")\n",
    "    elif count == 2:\n",
    "        print(\"MAYBE\")\n",
    "    else:\n",
    "        print(\"NO\")\n",
    "```\n",
    "或者\n",
    "```python\n",
    "if water == -1:\n",
    "    print(\"NO\")\n",
    "elif count == 3:\n",
    "    print(\"YES\")\n",
    "elif count == 2:\n",
    "    print(\"MAYBE\")\n",
    "else:\n",
    "    print(\"NO\")\n",
    "```"
   ]
  },
  {
   "cell_type": "markdown",
   "metadata": {},
   "source": [
    "如果要写成并列分支：\n",
    "```python\n",
    "if water == -1:\n",
    "    print(\"NO\")\n",
    "if count == 3:\n",
    "    print(\"YES\")\n",
    "elif count == 2:\n",
    "    print(\"MAYBE\")\n",
    "else:\n",
    "    print(\"NO\")\n",
    "```\n",
    "这样的写法可能会在输出NO之后再输出一个根据count产生的结果。两种解决办法：\n",
    "```python\n",
    "if water == -1:\n",
    "    print(\"NO\")\n",
    "    exit(0)\n",
    "if count == 3:\n",
    "    print(\"YES\")\n",
    "elif count == 2:\n",
    "    print(\"MAYBE\")\n",
    "else:\n",
    "    print(\"NO\")\n",
    "```\n",
    "或者通过改变count复用NO分支：\n",
    "```python\n",
    "if water == -1:\n",
    "    count = 0\n",
    "if count == 3:\n",
    "    print(\"YES\")\n",
    "elif count == 2:\n",
    "    print(\"MAYBE\")\n",
    "else:\n",
    "    print(\"NO\")\n",
    "```\n",
    "\n",
    "推荐掌握上述两种常用写法就足够了。"
   ]
  },
  {
   "cell_type": "markdown",
   "metadata": {},
   "source": [
    "这里补充一个使用bool值穷举的一个示例（感谢2300017463，2100017436_刘子涵、2200017747(Echo)也使用了类似思路）："
   ]
  },
  {
   "cell_type": "code",
   "execution_count": 12,
   "metadata": {},
   "outputs": [
    {
     "name": "stdout",
     "output_type": "stream",
     "text": [
      "MAYBE\n"
     ]
    }
   ],
   "source": [
    "# 2300017463\n",
    "# s=int(input())\n",
    "# t=int(input())\n",
    "# r=int(input())\n",
    "s = 30\n",
    "t = 30\n",
    "r = 0\n",
    "if r==-1:\n",
    "    print(\"NO\")\n",
    "elif s>15 and t>30 and r<=5:\n",
    "    print(\"YES\")\n",
    "elif s>15 and t>30 and r>5:\n",
    "    print(\"MAYBE\")\n",
    "elif s>15 and t<=30 and r<=5:\n",
    "    print(\"MAYBE\")\n",
    "elif s<=15 and t>30 and r<=5:\n",
    "    print(\"MAYBE\")\n",
    "else:\n",
    "    print(\"NO\")\n"
   ]
  },
  {
   "cell_type": "markdown",
   "metadata": {},
   "source": [
    "保存bool值的优化："
   ]
  },
  {
   "cell_type": "code",
   "execution_count": 13,
   "metadata": {},
   "outputs": [
    {
     "name": "stdout",
     "output_type": "stream",
     "text": [
      "MAYBE\n"
     ]
    }
   ],
   "source": [
    "# s=int(input())\n",
    "# t=int(input())\n",
    "# r=int(input())\n",
    "s = 30\n",
    "t = 30\n",
    "r = 0\n",
    "\n",
    "if r==-1:\n",
    "    print(\"NO\")\n",
    "else:\n",
    "    a = s>15\n",
    "    b = t>30\n",
    "    c = r<=5\n",
    "    \n",
    "    if a and b and c:\n",
    "        print(\"YES\")\n",
    "    elif a and b or b and c or c and a:\n",
    "        print(\"MAYBE\")\n",
    "    else:\n",
    "        print(\"NO\")\n"
   ]
  },
  {
   "cell_type": "markdown",
   "metadata": {},
   "source": [
    "#### 如何计数：bool值应用\n",
    "\n",
    "输入输出的部分解决了，现在还有一个关键的条件，就是通过的测试数量还没有求解。\n",
    "\n",
    "原先分析出来的框架：\n",
    "```python\n",
    "if speed > 15:\n",
    "    # 测试1通过啦\n",
    "if ride > 30:\n",
    "    # 测试2通过啦\n",
    "if 0 <= water <= 5:\n",
    "    # 测试3通过啦\n",
    "```\n",
    "\n",
    "方法1：直接计数\n",
    "\n",
    "几个并列的分支，每个都独立计数，这样就能求出通过了几个测试。\n",
    "\n",
    "```python\n",
    "count = 0\n",
    "if speed > 15:\n",
    "    count += 1\n",
    "if ride > 30:\n",
    "    count += 1\n",
    "if 0 <= water <= 5:\n",
    "    count +=1 \n",
    "```\n",
    "\n",
    "方法2：加和\n",
    "\n",
    "上面的方法，没有运用到bool值True和int值1之间的转换关系，比如我们可以看到True可以等效为1，实现计数，我们只需要将三个判断条件加起来就可以了\n",
    "\n",
    "回顾一下bool值的性质："
   ]
  },
  {
   "cell_type": "code",
   "execution_count": 14,
   "metadata": {},
   "outputs": [
    {
     "name": "stdout",
     "output_type": "stream",
     "text": [
      "True\n",
      "1\n",
      "0\n"
     ]
    }
   ],
   "source": [
    "a = 1\n",
    "b = a > 0\n",
    "print(b)\n",
    "print(int(True))\n",
    "print(int(False))"
   ]
  },
  {
   "cell_type": "code",
   "execution_count": 15,
   "metadata": {},
   "outputs": [
    {
     "name": "stdout",
     "output_type": "stream",
     "text": [
      "MAYBE\n"
     ]
    }
   ],
   "source": [
    "# 感谢2300014564\n",
    "# a = int(input())\n",
    "# b = int(input())\n",
    "# c = int(input())\n",
    "a = 30\n",
    "b = 30\n",
    "c = 0\n",
    "if c == -1:\n",
    "    print(\"NO\")\n",
    "else:\n",
    "    tests = (a > 15) + (b > 30) + (c < 5)\n",
    "    if tests == 3:\n",
    "        print(\"YES\")\n",
    "    elif tests == 2:\n",
    "        print(\"MAYBE\")\n",
    "    else:\n",
    "        print(\"NO\")"
   ]
  },
  {
   "cell_type": "markdown",
   "metadata": {},
   "source": [
    "## 作业2提示\n",
    "\n",
    "由于作业2还有一周截止，只能完整放出第五题的答案，前四题在本部分给予完整的思路讲解。\n",
    "\n",
    "如何上手做一道简单题？输入，操作，输出。\n",
    ">这其实和用户增长的流程一样，前期用户分析，中期执行，后期复盘优化:D\n",
    "\n",
    "我们接下来实践一下这个思路。"
   ]
  },
  {
   "cell_type": "markdown",
   "metadata": {},
   "source": [
    "### 1 是否赴约\n",
    "\n",
    "#### 描述\n",
    "晶晶的朋友贝贝约晶晶下周一起去看电影，但晶晶每周的1,3,5有课必须上课，请帮晶晶判断她能否接受贝贝的邀请，如果能输出 YES；如果不能则输出 NO。\n",
    "\n",
    "#### 输入\n",
    "输入有一行，贝贝邀请晶晶去看展览的日期，用数字1到7表示从星期一到星期日。\n",
    "\n",
    "#### 输出\n",
    "输出有一行，如果晶晶可以接受贝贝的邀请，输出YES，否则，输出NO。注意YES和NO都是大写字母！\n",
    "\n",
    "#### 分析\n",
    "\n",
    "首先确定，只有一个独立条件，且条件各个选项都是互斥的，只使用一个块能解决。\n",
    "\n",
    "- 输入：一个整数\n",
    "- 三个条件：当天等于1，等于3，**或者**等于5。可以用三个bool值or连接，也可以全部elif。\n",
    "- 输出：符合条件输出YES，否则NO\n"
   ]
  },
  {
   "cell_type": "markdown",
   "metadata": {},
   "source": [
    "### 2 车牌限号\n",
    "#### 描述\n",
    "今天某市交通管制，**车牌尾号为奇数**的车才能上路。问给定的车牌号今天是否能上路。\n",
    "\n",
    "#### 输入\n",
    "一行。一个由字母和数字构成的长度为1到10的字符串，代表车牌号，**车牌号最后一位是数字**。\n",
    "#### 输出\n",
    "今天可以上路，输出“YES”，否则输出“NO”。注意字母均为大写。\n",
    "\n",
    "同样是只有一个独立条件，一个块解决。\n",
    "\n",
    "- 输入：一个字符串\n",
    "- 判断：尾号（`s[-1]`）为奇数\n",
    "- 输出：符合条件输出YES，否则NO"
   ]
  },
  {
   "cell_type": "markdown",
   "metadata": {},
   "source": [
    "### 3 判断是否构成三角形\n",
    "\n",
    "#### 描述\n",
    "给定三个正整数，分别表示三条线段的长度，判断这三条线段能否构成一个三角形。\n",
    "\n",
    "#### 输入\n",
    "输入共一行，包含**三个正整数**，分别表示三条线段的长度，数与数之间以**一个空格分开**。（三条边的长度均不超过 1000010000）\n",
    "#### 输出\n",
    "如果能构成三角形，则输出 1 ，否则输出 0。\n",
    "\n",
    "这道题的输入和判断需要联合思考，相对复杂一点。\n",
    "\n",
    "- 输入：一行内输入，使用`input().split()`，取到之后转换成int\n",
    "- 逻辑判断：理想情况是两个短边相加和长边比较，但是题目没有保证顺序。所以需要排序或者轮流。\n",
    "- 输出：简单输出。"
   ]
  },
  {
   "cell_type": "markdown",
   "metadata": {},
   "source": [
    "### 4 商品折扣计算\n",
    "\n",
    "#### 描述\n",
    "某电商平台推出阶梯折扣活动，根据订单金额给予不同优惠：\n",
    "\n",
    "订单金额低于500元，无折扣\n",
    "500元到2000元之间，超出500元的部分打9折\n",
    "2000元到5000元之间，超出2000元的部分打8折\n",
    "5000元以上，超出5000元的部分打6折\n",
    "输入订单金额，计算用户实际支付金额（单位：元），要求使用f-string直接保留两位小数\n",
    "\n",
    "#### 输入\n",
    "一行。一个大于等于0的浮点数（包含整数和小数部分），表示订单金额。\n",
    "#### 输出\n",
    "一行。保留两位小数的实际支付金额。\n",
    "\n",
    "本题简单输入，简单输出，复杂全在逻辑\n",
    "- 输入：一个简单浮点数\n",
    "- 输出：一个简单浮点数\n",
    "\n"
   ]
  },
  {
   "cell_type": "markdown",
   "metadata": {},
   "source": [
    "如果设old为原价，ans为目标答案，计算的表达式如下：\n",
    "```python\n",
    "ans = 0\n",
    "if old <= 500:\n",
    "    ans = old\n",
    "elif 500 < old <= 2000:\n",
    "    ans = 500 + (old - 500) * 0.9\n",
    "elif 2000 < old <= 5000:\n",
    "    ans = 500 + 1500 * 0.9 + (old - 2000) * 0.8\n",
    "elif old > 5000:\n",
    "    ans = 500 + 1500 * 0.9 + 3000 * 0.8 + (old - 5000) * 0.6\n",
    "```"
   ]
  },
  {
   "cell_type": "markdown",
   "metadata": {},
   "source": [
    "## 循环要点整理和作业3提示\n",
    "\n",
    "Python中，常用的循环结构主要有两种：for循环和while循环。\n",
    "\n",
    "for循环适合遍历一个已知长度的数据结构，比如通过range()生成的数字序列或字符串中的每个字符；这种迭代方式在进入循环前，循环的范围就已经确定。\n",
    "\n",
    "while循环则更灵活，它根据运行时的条件来判断是否继续执行，非常适合那些终止条件不固定、依赖动态计算结果的数学算法。\n",
    "\n",
    "### for-range\n",
    "\n",
    "range是一个python中的生成器，用于表示一个区间的概念。"
   ]
  },
  {
   "cell_type": "markdown",
   "metadata": {},
   "source": [
    "range可以在for循环中使用，也是最常见的用法：\n",
    "- `range(stop)`：生成从 0 到 stop-1 的整数序列。\n",
    "- `range(start, stop)`：生成从 start 到 stop-1 的整数序列。\n",
    "- `range(start, stop, step)`：生成从 start 开始，每次增加 step，直到达到但不超过 stop 的整数序列。\n"
   ]
  },
  {
   "cell_type": "code",
   "execution_count": 16,
   "metadata": {},
   "outputs": [
    {
     "name": "stdout",
     "output_type": "stream",
     "text": [
      "1 3 5 7 9 \n",
      "10 9 8 7 6 5 4 3 2 "
     ]
    }
   ],
   "source": [
    "for i in range(1, 10, 2):\n",
    "    print(i, end=' ')\n",
    "print()\n",
    "for i in range(10, 1, -1):\n",
    "    print(i, end=' ')"
   ]
  },
  {
   "cell_type": "markdown",
   "metadata": {},
   "source": [
    "拓展知识：生成器具有惰性计算的特点"
   ]
  },
  {
   "cell_type": "code",
   "execution_count": 17,
   "metadata": {},
   "outputs": [
    {
     "name": "stdout",
     "output_type": "stream",
     "text": [
      "Size of range: 48 bytes\n",
      "Size of list: 8000056 bytes\n",
      "Size of range: 48 bytes\n"
     ]
    }
   ],
   "source": [
    "import sys\n",
    "\n",
    "r = range(10**6)  # 创建一个范围为 0 到 999999 的 range 对象\n",
    "l = list(r)       # 把 range 转换成列表\n",
    "\n",
    "print(f\"Size of range: {sys.getsizeof(r)} bytes\")  # 只占用很少的内存\n",
    "print(f\"Size of list: {sys.getsizeof(l)} bytes\")  # 会占用大量内存\n",
    "\n",
    "r[9999]\n",
    "print(f\"Size of range: {sys.getsizeof(r)} bytes\")  # 只占用很少的内存\n"
   ]
  },
  {
   "cell_type": "markdown",
   "metadata": {},
   "source": [
    "例题：自由练习030\n",
    "\n",
    "给出两个不相等的正整数，求它们之间（包括边界）的奇数之和。\n",
    "\n",
    "输入：两个正整数。\n",
    "输出：区间中奇数的求和。\n"
   ]
  },
  {
   "cell_type": "code",
   "execution_count": 18,
   "metadata": {},
   "outputs": [
    {
     "name": "stdout",
     "output_type": "stream",
     "text": [
      "24\n"
     ]
    }
   ],
   "source": [
    "# a = int(input())\n",
    "# b = int(input())\n",
    "a, b = 9, 2\n",
    "\n",
    "if a > b:\n",
    "    a, b = b, a\n",
    "ans = 0\n",
    "for i in range(a, b+1):\n",
    "    if i % 2:\n",
    "        ans += i\n",
    "\n",
    "print(ans)"
   ]
  },
  {
   "cell_type": "markdown",
   "metadata": {},
   "source": [
    "### for-str\n",
    "\n",
    "字符串在之前的课程中已经使用过多次，使用如下语句：\n",
    "```python\n",
    "for c in str1:\n",
    "    # 访问字符串中每一个字符\n",
    "```\n",
    "\n",
    "例题：自由练习031 \n",
    "\n",
    "输入一行字符，统计出其中数字字符的个数。\n",
    "\n",
    "输入：一行字符串，总长度不超过255。\n",
    "输出：输出为1行，输出字符串里面数字字符的个数。"
   ]
  },
  {
   "cell_type": "code",
   "execution_count": 19,
   "metadata": {},
   "outputs": [
    {
     "name": "stdout",
     "output_type": "stream",
     "text": [
      "4\n"
     ]
    }
   ],
   "source": [
    "# 2100017436_刘子涵\n",
    "# str1 = input()\n",
    "str1 = \"abc1234\"\n",
    "numN = 0\n",
    "for x in str1:\n",
    "    if x in \"1234567890\": # isdigit(x)\n",
    "        numN += 1\n",
    "print(numN)"
   ]
  },
  {
   "cell_type": "markdown",
   "metadata": {},
   "source": [
    "### 二重循环\n",
    "\n",
    "循环可以嵌套。\n",
    "\n",
    "例题：自由练习034 求阶乘的和\n",
    "\n",
    "给定正整数n，求不大于n的正整数的阶乘的和,（即求1!+2!+3!+...+n!）\n",
    "\n",
    "输入\n",
    "一个正整数n（1 < n < 12）。\n",
    "输出\n",
    "不大于n的正整数的阶乘的和阶乘的和。"
   ]
  },
  {
   "cell_type": "code",
   "execution_count": 20,
   "metadata": {},
   "outputs": [
    {
     "name": "stdout",
     "output_type": "stream",
     "text": [
      "153\n"
     ]
    }
   ],
   "source": [
    "# 2100017436\n",
    "# n = int(input())\n",
    "n = 5\n",
    "s = 0\n",
    "for x in range(1,n+1):\n",
    "    a = 1\n",
    "    for x1 in range(1,x+1):\n",
    "        a *= x1\n",
    "    s += a\n",
    "print(s)"
   ]
  },
  {
   "cell_type": "markdown",
   "metadata": {},
   "source": [
    "优化："
   ]
  },
  {
   "cell_type": "code",
   "execution_count": 21,
   "metadata": {},
   "outputs": [
    {
     "name": "stdout",
     "output_type": "stream",
     "text": [
      "153\n"
     ]
    }
   ],
   "source": [
    "# n = int(input())\n",
    "n = 5\n",
    "s = 0\n",
    "a = 1\n",
    "for x in range(1,n+1):\n",
    "    a *= x\n",
    "    s += a\n",
    "print(s)\n"
   ]
  },
  {
   "cell_type": "markdown",
   "metadata": {},
   "source": [
    "### while循环\n",
    "\n",
    "while循环是一种比for循环更加基本的循环，只要条件满足，就不断循环，条件不满足时退出循环。\n",
    "\n",
    "例题：自由练习038 数字黑洞2178\n",
    "\n",
    "\n",
    "数学中有一个有趣的现象，给一个4位数，按照一个简单的规则，总能得到2178或0。\n",
    "\n",
    "这个规则是：将数字颠倒并与原数字相减，得到一个差（要求用大的减小的，或者说取绝对值）。\n",
    "\n",
    "例如：输入1960，运算过程如下：\n",
    "```\n",
    "1269  第1次运算，得到1269， 因为 1960-0691 = 1269\n",
    "8352  第2次运算，得到8352，因为 9621-1269 = 8352\n",
    "5814   第3次运算，依此类推\n",
    "1629\n",
    "7632\n",
    "5265\n",
    "360  第7次运算，得到360， 因为 5625-5265=360\n",
    "297  第8次运算，得到360，因为 360-063 = 297\n",
    "495\n",
    "99\n",
    "0  第11次运算，得到0，结束。\n",
    "```\n",
    "又例如：输入 9801，共运算3次，分别得到8712，6534，2178。得到2178也结束。\n",
    "\n",
    "编写程序，输入一个4位数，输出得到2178或0的过程共运算了几次。\n",
    "\n",
    "输入：一个4位正整数\n",
    "输出：一个大于等于0的整数，它是得到2178或0的过程的运算次数\n"
   ]
  },
  {
   "cell_type": "code",
   "execution_count": 22,
   "metadata": {},
   "outputs": [
    {
     "name": "stdout",
     "output_type": "stream",
     "text": [
      "11\n"
     ]
    }
   ],
   "source": [
    "# n = int(input())\n",
    "n = 1960\n",
    "count = 0\n",
    "if n == 0 or n == 2178:\n",
    "    print(count)\n",
    "else:\n",
    "    while n != 0 and n!= 2178:\n",
    "        reverse = str(n)\n",
    "        reverse = reverse[::-1]\n",
    "        reverse = int(reverse)\n",
    "        difference = abs(n - reverse)\n",
    "        count += 1\n",
    "        n = difference\n",
    "    print(count)\n"
   ]
  }
 ],
 "metadata": {
  "kernelspec": {
   "display_name": "base",
   "language": "python",
   "name": "python3"
  },
  "language_info": {
   "codemirror_mode": {
    "name": "ipython",
    "version": 3
   },
   "file_extension": ".py",
   "mimetype": "text/x-python",
   "name": "python",
   "nbconvert_exporter": "python",
   "pygments_lexer": "ipython3",
   "version": "3.12.4"
  }
 },
 "nbformat": 4,
 "nbformat_minor": 2
}

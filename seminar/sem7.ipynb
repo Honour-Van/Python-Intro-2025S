{
 "cells": [
  {
   "cell_type": "markdown",
   "metadata": {},
   "source": [
    "# 0410第7次上机：组合数据类型（2）\n"
   ]
  },
  {
   "cell_type": "markdown",
   "metadata": {},
   "source": [
    "## 1. 字典、集合补充\n",
    "\n",
    "1）字典 dict 和集合 set 都是**无序**数据结构，区别于序列数据结构list、tuple等。\n",
    "\n",
    "这种无序是和计算机存储密切相关的，比如我们默认一个二分的结构："
   ]
  },
  {
   "cell_type": "code",
   "execution_count": null,
   "metadata": {},
   "outputs": [],
   "source": [
    "# set:\n",
    "#       A\n",
    "#      / \\\n",
    "#     B   C\n",
    "#    / \\   \\\n",
    "#   D   E   F\n",
    "#      / \\\n",
    "#     G   H\n",
    "\n",
    "# list:\n",
    "# A → B → C → D → E → F → G → H\n",
    "\n",
    "# dict：增加一个“查找表”，比如我们建立一个从str到int的映射，本质上就是将查找集合结构之后，把对应节点的项取出来\n",
    "# A -> 1\n",
    "# B -> 10\n",
    "# ...\n",
    "# H -> 100"
   ]
  },
  {
   "cell_type": "markdown",
   "metadata": {},
   "source": [
    "\n",
    "2）集合和字典在逻辑抽象上等同于高一数学的集合和映射。\n",
    "\n",
    "### 1.1 集合\n",
    "\n",
    "接口很多很杂？采用如下的思考/记忆方式：\n",
    "\n",
    "|**类型**|**口诀**|**要求**|\n",
    "|---|---|---|\n",
    "|元素操作|增、删、改、查（CRUD）|add、in需要记忆|\n",
    "|逻辑运算|交并补集，空集|会做作业即可（见课件）|\n",
    "|遍历|for i in s|必须掌握|"
   ]
  },
  {
   "cell_type": "markdown",
   "metadata": {},
   "source": [
    "考试可能会考的："
   ]
  },
  {
   "cell_type": "code",
   "execution_count": null,
   "metadata": {},
   "outputs": [
    {
     "name": "stdout",
     "output_type": "stream",
     "text": [
      "True\n",
      "True\n",
      "1\n",
      "2\n",
      "3\n",
      "5\n",
      "1 in s\n",
      "4 not in s\n"
     ]
    }
   ],
   "source": [
    "# 初始化集合\n",
    "s = set()  # 不能 {} 会生成一个空字典\n",
    "\n",
    "# 判断空集\n",
    "print(len(s) == 0)      # True\n",
    "print(not s)            # True（推荐）\n",
    "\n",
    "# 初始化一个有元素的集合\n",
    "s = {1, 2, 3}\n",
    "\n",
    "for item in s:\n",
    "    print(item)\n",
    "\n",
    "\n",
    "if 1 in s:\n",
    "    print(\"1 in s\")\n",
    "else:\n",
    "    print(\"1 not in s\")\n",
    "if 4 in s:\n",
    "    print(\"4 in s\")\n",
    "else:\n",
    "    print(\"4 not in s\")\n"
   ]
  },
  {
   "cell_type": "markdown",
   "metadata": {},
   "source": [
    "作业题需要会的（增删改查）："
   ]
  },
  {
   "cell_type": "code",
   "execution_count": null,
   "metadata": {},
   "outputs": [],
   "source": [
    "s = {1, 2, 3}\n",
    "\n",
    "# 增：add() 添加单个元素，update() 添加多个元素\n",
    "s.add(4)          # {1, 2, 3, 4}\n",
    "s.update([5, 6])  # {1, 2, 3, 4, 5, 6}\n",
    "\n",
    "# s = s.add(7)\n",
    "s.add(7)\n",
    "\n",
    "# 删：remove() 删除指定元素（不存在则报错），discard() 删除（不报错），pop() 随机删除\n",
    "s.remove(1)       # {2, 3, 4, 5, 6}\n",
    "s.discard(10)     # 无变化（不报错）\n",
    "s.pop()           # 随机删除一个元素，如 2\n",
    "\n",
    "# 改：集合元素不可直接修改，只能先删后增\n",
    "s.discard(3)\n",
    "s.add(30)         # {30, 4, 5, 6}\n",
    "\n",
    "# 查：用 in 判断元素是否存在\n",
    "print(4 in s)     # True\n",
    "print(10 in s)    # False"
   ]
  },
  {
   "cell_type": "markdown",
   "metadata": {},
   "source": [
    "### 1.2 字典\n",
    "\n",
    "理解一个概念键-值对（key-value pair），就相当于映射中的定义域（key的集合）和值域（value的集合）。\n",
    "\n",
    "| **类型**       | **口诀**                | **要求**                     |\n",
    "|---------------|-------------------------|-----------------------------|\n",
    "| **元素操作**   | 增删改查（CRUD）        | `d[key] = value` 必须掌握    |\n",
    "| **逻辑运算**   | 无直接运算              | 需手动实现（如键的交并）     |\n",
    "| **遍历**       | `keys()`, `values()`, `items()` | **必须掌握**               |\n",
    "\n",
    "必会考点："
   ]
  },
  {
   "cell_type": "code",
   "execution_count": null,
   "metadata": {},
   "outputs": [
    {
     "name": "stdout",
     "output_type": "stream",
     "text": [
      "20\n",
      "默认值\n",
      "b 20\n",
      "c 3\n"
     ]
    }
   ],
   "source": [
    "# 声明空字典\n",
    "d = dict()\n",
    "d = {}\n",
    "\n",
    "# 声明有键值对的字典\n",
    "d = {\"a\": 1, \"b\": 2}\n",
    "\n",
    "# 增：直接赋值\n",
    "d[\"c\"] = 3         # {\"a\": 1, \"b\": 2, \"c\": 3}\n",
    "\n",
    "# 删：pop() 删除指定键\n",
    "d.pop(\"a\")         # {\"b\": 2, \"c\": 3}\n",
    "\n",
    "# 改：直接赋值修改\n",
    "d[\"b\"] = 20        # {\"b\": 20, \"c\": 3}\n",
    "\n",
    "# 查：get() 或直接访问\n",
    "print(d[\"b\"])      # 20\n",
    "print(d.get(\"d\", \"默认值\"))  # \"默认值\"（键不存在时返回默认值）\n",
    "\n",
    "# 遍历\n",
    "for k, v in d.items():\n",
    "    print(k, v)\n"
   ]
  },
  {
   "cell_type": "markdown",
   "metadata": {},
   "source": [
    "#### 必会题型模板：统计"
   ]
  },
  {
   "cell_type": "code",
   "execution_count": null,
   "metadata": {},
   "outputs": [
    {
     "name": "stdout",
     "output_type": "stream",
     "text": [
      "hello 2\n",
      "world 1\n",
      "python 1\n"
     ]
    }
   ],
   "source": [
    "words = []\n",
    "count_dict = {}\n",
    "\n",
    "# 输入\n",
    "words = \"hello world hello python\".split()\n",
    "\n",
    "# 遍历\n",
    "for word in words:\n",
    "    # 方法1：直接判断key是否存在\n",
    "    if word in count_dict:\n",
    "        count_dict[word] += 1\n",
    "    else:\n",
    "        count_dict[word] = 1\n",
    "    # 方法2（推荐）：用get()方法设置默认值\n",
    "    # count_dict[word] = count_dict.get(word, 0) + 1\n",
    "\n",
    "# 输出\n",
    "for k, v in count_dict.items():\n",
    "    print(k, v)"
   ]
  },
  {
   "cell_type": "markdown",
   "metadata": {},
   "source": [
    "## 2. 例题讲解\n",
    "\n",
    "### 统计必会模板题！自由练习045:词频统计2\n",
    "究极好好好好题，必须会！**标签**：统计模板+复杂排序\n",
    "\n",
    "**题目描述：**\n",
    "\n",
    "输入多个单词，统计输出每个单词出现的次数。\n",
    "\n",
    "要求按照出现次数由高到低的顺序输出单词，当不同单词出现次数相同时，按照单词字典序输出单词。\n",
    "\n",
    "**输入**：多行，每行一个单词，输入空行表示输入结束。\n",
    "**输出**：多行，每行一个用空格分隔的单词出现次数和对应单词。\n",
    "\n",
    "首先默写模板："
   ]
  },
  {
   "cell_type": "code",
   "execution_count": null,
   "metadata": {},
   "outputs": [],
   "source": [
    "words = []\n",
    "count_dict = {}\n",
    "\n",
    "# 输入\n",
    "\n",
    "# 遍历\n",
    "for word in words:\n",
    "    # 方法2（推荐）：用get()方法设置默认值\n",
    "    count_dict[word] = count_dict.get(word, 0) + 1\n",
    "\n",
    "# 输出\n",
    "for k, v in count_dict.items():\n",
    "    print(k, v)"
   ]
  },
  {
   "cell_type": "markdown",
   "metadata": {},
   "source": [
    "本题的输入使用 while 循环输入，因为不知道多少次:"
   ]
  },
  {
   "cell_type": "code",
   "execution_count": null,
   "metadata": {},
   "outputs": [],
   "source": [
    "words = []\n",
    "\n",
    "while True:\n",
    "    word = input()\n",
    "    if word == \"\":\n",
    "        break\n",
    "    words.append(word)\n",
    "    \n",
    "# 如果知道多少次，就用\n",
    "# for i in range(n):\n",
    "#   xxx"
   ]
  },
  {
   "cell_type": "markdown",
   "metadata": {},
   "source": [
    "输出部分，排序，并使用控制输出：\n",
    "\n",
    "注意这里排序有两重，需要指定一下，如何理解？\n",
    "\n",
    "python 的排序具有稳定性，第一次排序之后，就可以保证第二次排序的指标相同时，仍然保留第一次排序的结果，即单词序。\n"
   ]
  },
  {
   "cell_type": "code",
   "execution_count": null,
   "metadata": {},
   "outputs": [],
   "source": [
    "# \"cat dog apple cat bee dog apple cat\"\n",
    "# 统计得到：\n",
    "# {'cat': 3, 'dog': 2, 'apple': 2, 'bee': 1}\n",
    "# 第一次排序（按单词名）：\n",
    "# [('apple', 2), ('bee', 1), ('cat', 3), ('dog', 2)]\n",
    "# 第二次排序（按次数降序）：\n",
    "# [('cat', 3), ('apple', 2), ('dog', 2), ('bee', 1)]"
   ]
  },
  {
   "cell_type": "code",
   "execution_count": 15,
   "metadata": {},
   "outputs": [
    {
     "name": "stdout",
     "output_type": "stream",
     "text": [
      "None\n"
     ]
    }
   ],
   "source": [
    "count_items = sorted(count_dict.items(), key=lambda x: (-x[1], x[0]))\n",
    "\n",
    "# 或者\n",
    "\n",
    "count_items = sorted(count_dict.items(), key=lambda x: x[0])\n",
    "print(count_items.sort(key=lambda x: x[1], reverse=True))"
   ]
  },
  {
   "cell_type": "code",
   "execution_count": null,
   "metadata": {},
   "outputs": [
    {
     "name": "stdout",
     "output_type": "stream",
     "text": [
      "text 3\n",
      "is 2\n",
      "demo 1\n",
      "this 1\n"
     ]
    }
   ],
   "source": [
    "words = []\n",
    "count_dict = {}\n",
    "\n",
    "# 输入\n",
    "while True:\n",
    "    word = input()\n",
    "    if word == \"\":\n",
    "        break\n",
    "    words.append(word)\n",
    "\n",
    "# 遍历\n",
    "for word in words:\n",
    "    # 方法2（推荐）：用get()方法设置默认值\n",
    "    count_dict[word] = count_dict.get(word, 0) + 1\n",
    "\n",
    "# 输出\n",
    "for k, v in sorted(count_dict.items(), key=lambda x: (-x[1], x[0])):\n",
    "    print(v, k)"
   ]
  },
  {
   "cell_type": "markdown",
   "metadata": {},
   "source": [
    "变式优化：边输入边遍历"
   ]
  },
  {
   "cell_type": "code",
   "execution_count": null,
   "metadata": {},
   "outputs": [],
   "source": [
    "count_dict = {}\n",
    "\n",
    "# 边输入边遍历\n",
    "while True:\n",
    "    word = input()\n",
    "    if word == \"\":\n",
    "        break\n",
    "    count_dict[word] = count_dict.get(word, 0) + 1\n",
    "\n",
    "# 输出\n",
    "for k, v in sorted(count_dict.items(), key=lambda x: (-x[1], x[0])):\n",
    "    print(v, k)"
   ]
  },
  {
   "cell_type": "markdown",
   "metadata": {},
   "source": [
    "### 数据类型的组合或复合\n",
    "\n",
    "理解列表和集合是一群元素的总和，元组、字典本质上就是标明元素间的关系，所以可以相互转换。\n",
    "\n",
    "但要注意集合和字典没有顺序。\n",
    "\n",
    "自由练习052:病人排队\n",
    "\n",
    "病人登记看病，编写一个程序，将登记的病人按照以下原则排出看病的先后顺序：\n",
    "1. 老年人（年龄 >= 60岁）比非老年人优先看病。\n",
    "2. 老年人按年龄从大到小的顺序看病，年龄相同的按登记的先后顺序排序。\n",
    "3. 非老年人按登记的先后顺序看病。\n",
    "\n",
    "**输入**\n",
    "\n",
    "第1行，输入一个小于100的正整数，表示病人的个数；\n",
    "\n",
    "后面按照病人登记的先后顺序，每行输入一个病人的信息，包括：一个长度小于10的字符串表示病人的ID（每个病人的ID各不相同且只含数字和字母），一个整数表示病人的年龄，中间用单个空格隔开。\n",
    "\n",
    "**输出**\n",
    "\n",
    "按排好的看病顺序输出病人的ID，每行一个。\n",
    "\n",
    "\n"
   ]
  },
  {
   "cell_type": "code",
   "execution_count": null,
   "metadata": {},
   "outputs": [],
   "source": [
    "# 使用三元组的列表（list+tuple）\n",
    "n = int(input())\n",
    "patients = []\n",
    "for i in range(n):\n",
    "    id, age = input().split()\n",
    "    age = int(age)\n",
    "    patients.append((id, age, i))  # (ID, 年龄, 登记顺序)\n",
    "\n",
    "# 分离老年人和非老年人\n",
    "seniors = [p for p in patients if p[1] >= 60]\n",
    "non_seniors = [p for p in patients if p[1] < 60]\n",
    "\n",
    "# 老年人排序：年龄降序，年龄相同则按登记顺序升序\n",
    "seniors.sort(key=lambda x: (-x[1], x[2]))\n",
    "\n",
    "# 非老年人保持原顺序（无需排序）\n",
    "\n",
    "# 合并结果：老年人在前，非老年人在后\n",
    "result = seniors + non_seniors\n",
    "\n",
    "# 输出ID\n",
    "for p in result:\n",
    "    print(p[0])"
   ]
  },
  {
   "cell_type": "markdown",
   "metadata": {},
   "source": [
    "观察老年人的顺序不重要，所以换用dict，能进一步提升运行效率。\n",
    "\n",
    "在这门课程的解题层面没有必要，但是数据结构课程或者实际项目中有意义，如果有n=100,000,000个老人保存在系统中，list查询需要n=100,000,000次，但是dict查询需要log n ≈ 10,000次。"
   ]
  },
  {
   "cell_type": "code",
   "execution_count": null,
   "metadata": {},
   "outputs": [],
   "source": [
    "n = int(input())\n",
    "senior_dict = {}  # 字典存储老年人，格式：{ID: (年龄, 登记序号)}\n",
    "non_senior_list = []  # 列表存储非老年人，格式：[ (ID, 年龄, 登记序号) ]\n",
    "\n",
    "for i in range(n):\n",
    "    id, age = input().split()\n",
    "    age = int(age)\n",
    "    if age >= 60:\n",
    "        senior_dict[id] = (age, i)  # 字典存储\n",
    "    else:\n",
    "        non_senior_list.append((id, age, i))  # 列表存储（自动保持顺序）\n",
    "\n",
    "# 老年人排序：年龄降序 → 登记序号升序\n",
    "sorted_seniors = sorted(senior_dict.items(), \n",
    "                    key=lambda x: (-x[1][0], x[1][1]))  # 元组解包\n",
    "\n",
    "# 合并结果（老年人ID + 非老年人ID）\n",
    "result = [item[0] for item in sorted_seniors] + [item[0] for item in non_senior_list]\n",
    "\n",
    "# 输出\n",
    "for id in result:\n",
    "    print(id)"
   ]
  },
  {
   "cell_type": "markdown",
   "metadata": {},
   "source": [
    "## 3. 关于小测\n",
    "\n",
    "帮助大家复习最基本的内容：\n",
    "1. 变量，赋值，运算\n",
    "2. 变量数据类型\n",
    "3. 分支：基本代码块，组合和嵌套\n",
    "4. 循环：掌握基本循环 for 和 while\n",
    "\n",
    "测试内容不包含组合数据类型。\n",
    "\n",
    "课后看如下代码，能看懂的话说明基础知识点已经掌握："
   ]
  },
  {
   "cell_type": "code",
   "execution_count": 7,
   "metadata": {},
   "outputs": [
    {
     "name": "stdout",
     "output_type": "stream",
     "text": [
      "8.2 1.7999999999999998 Hello, Alice! AliceAliceAlice\n"
     ]
    }
   ],
   "source": [
    "# 变量赋值\n",
    "x = 5\n",
    "y = 3.2\n",
    "name = \"Alice\"\n",
    "is_student = True\n",
    "\n",
    "# 基本运算\n",
    "sum_result = x + y       # 加法\n",
    "diff = x - y             # 减法\n",
    "product = x * y          # 乘法\n",
    "quotient = x / y         # 除法\n",
    "power = x ** 2           # 幂运算\n",
    "remainder = x % 2        # 取模\n",
    "\n",
    "# 字符串运算\n",
    "greeting = \"Hello, \" + name + \"!\"  # 字符串连接\n",
    "repeat = name * 3                  # 字符串重复\n",
    "\n",
    "print(sum_result, diff, greeting, repeat)"
   ]
  },
  {
   "cell_type": "code",
   "execution_count": 18,
   "metadata": {},
   "outputs": [
    {
     "name": "stdout",
     "output_type": "stream",
     "text": [
      "<class 'int'>\n",
      "<class 'float'>\n",
      "<class 'str'>\n",
      "<class 'NoneType'>\n",
      "<class 'list'>\n"
     ]
    }
   ],
   "source": [
    "# 基本数据类型\n",
    "integer_num = 42          # 整数\n",
    "float_num = 3.14          # 浮点数\n",
    "string = \"Python\"         # 字符串\n",
    "boolean = True            # 布尔值\n",
    "none_value = None         # 空值\n",
    "a = [1, 2, 3, 4]\n",
    "\n",
    "# 类型检查\n",
    "print(type(integer_num))  # <class 'int'>\n",
    "print(type(float_num))    # <class 'float'>\n",
    "print(type(string))       # <class 'str'>\n",
    "print(type(a.sort()))\n",
    "print(type(sorted(a)))\n",
    "\n",
    "# 类型转换\n",
    "num_str = \"123\"\n",
    "num_int = int(num_str)    # 字符串转整数\n",
    "str_num = str(456)       # 数字转字符串\n",
    "float_from_int = float(7) # 整数转浮点数"
   ]
  },
  {
   "cell_type": "code",
   "execution_count": null,
   "metadata": {},
   "outputs": [
    {
     "name": "stdout",
     "output_type": "stream",
     "text": [
      "您是成年人\n",
      "您的成绩等级是: B\n",
      "正数\n",
      "且是奇数\n",
      "正数\n",
      "且是奇数\n"
     ]
    }
   ],
   "source": [
    "# 基本if语句\n",
    "age = 18\n",
    "if age >= 18:\n",
    "    print(\"您是成年人\")\n",
    "else:\n",
    "    print(\"您是未成年人\")\n",
    "\n",
    "# 多条件判断\n",
    "score = 85\n",
    "if score >= 90:\n",
    "    grade = 'A'\n",
    "elif score >= 80:\n",
    "    grade = 'B'\n",
    "elif score >= 70:\n",
    "    grade = 'C'\n",
    "else:\n",
    "    grade = 'D'\n",
    "print(f\"您的成绩等级是: {grade}\")\n",
    "\n",
    "# 嵌套if语句\n",
    "num = 15\n",
    "if num > 0:\n",
    "    print(\"正数\")\n",
    "    if num % 2 == 0:\n",
    "        print(\"且是偶数\")\n",
    "    else:\n",
    "        print(\"且是奇数\")\n",
    "elif num < 0:\n",
    "    print(\"负数\")\n",
    "    if num % 2 == 0:\n",
    "        print(\"且是偶数\")\n",
    "    else:\n",
    "        print(\"且是奇数\")\n",
    "else:\n",
    "    print(\"零\")\n",
    "\n",
    "# 组合if语句\n",
    "num = 15\n",
    "if num > 0:\n",
    "    print(\"正数\")\n",
    "elif num < 0:\n",
    "    print(\"负数\")\n",
    "else:\n",
    "    print(\"零\")\n",
    "if num % 2:\n",
    "    print(\"且是奇数\")\n",
    "else:\n",
    "    print(\"且是偶数\")"
   ]
  },
  {
   "cell_type": "code",
   "execution_count": null,
   "metadata": {},
   "outputs": [
    {
     "name": "stdout",
     "output_type": "stream",
     "text": [
      "0 1 2 3 4 \n",
      "I like apple\n",
      "I like banana\n",
      "I like cherry\n",
      "0 1 2 3 4 \n",
      "0 1 2 4 5 6 \n",
      "1*1=1\t1*2=2\t1*3=3\t\n",
      "2*1=2\t2*2=4\t2*3=6\t\n",
      "3*1=3\t3*2=6\t3*3=9\t\n"
     ]
    }
   ],
   "source": [
    "# for循环示例\n",
    "for i in range(5):        # 0到4\n",
    "    print(i, end=' ')\n",
    "print()\n",
    "\n",
    "# 遍历列表\n",
    "fruits = ['apple', 'banana', 'cherry']\n",
    "for fruit in fruits:\n",
    "    print(f\"I like {fruit}\")\n",
    "\n",
    "# while循环示例\n",
    "count = 0\n",
    "while count < 5:\n",
    "    print(count, end=' ')\n",
    "    count += 1\n",
    "print()\n",
    "\n",
    "# 循环控制\n",
    "for num in range(10):\n",
    "    if num == 3:\n",
    "        continue        # 跳过3\n",
    "    if num == 7:\n",
    "        break           # 在7时退出循环\n",
    "    print(num, end=' ')\n",
    "print()\n",
    "\n",
    "# 嵌套循环\n",
    "for i in range(1, 4):   # 1到3\n",
    "    for j in range(1, 4):\n",
    "        print(f\"{i}*{j}={i*j}\", end='\\t')\n",
    "    print()"
   ]
  },
  {
   "cell_type": "markdown",
   "metadata": {},
   "source": [
    "**例题**\n",
    "\n",
    "\n",
    "孪生素数是指一对正整数p, p+2均为素数的情况。\n",
    "\n",
    "> 素数：提醒你要用模板，要用函数。\n",
    "\n",
    "给出一对不相同的正整数N,M。求这两个数**之间（包括边界）**所有的孪生素数。（注意：N,M之间大小关系不确定！！！）\n",
    "\n",
    "> 之间：要使用range\n",
    "> 不确定：需要if去判断\n",
    "\n",
    "注意：孪生素数在这两个数之间的意思是，p和p+2都在之间。\n",
    "\n",
    "**输入**\n",
    "一行，两个正整数用英文冒号:分隔。\n",
    "\n",
    "**输出**\n",
    "若干行，每行两个正整数p和p+2用英文分号;分隔，是一对孪生素数。\n",
    "输出按p从小到大排列。"
   ]
  },
  {
   "cell_type": "code",
   "execution_count": null,
   "metadata": {},
   "outputs": [
    {
     "name": "stdout",
     "output_type": "stream",
     "text": [
      "1 10\n",
      "3;5\n",
      "5;7\n"
     ]
    }
   ],
   "source": [
    "# 输入\n",
    "\n",
    "# 输入法1\n",
    "# a, b = input().split(':')\n",
    "# a = int(a)\n",
    "# b = int(b)\n",
    "# a, b = int(a), int(b)\n",
    "# print(type(a), type(b))\n",
    "\n",
    "# 输入法2：\n",
    "# [int(x) for x in input().split(':')]\n",
    "\n",
    "# 输入法3:\n",
    "a, b = map(int, input().split(':'))\n",
    "# a, b = list(map(int, input().split(':')))\n",
    "# print(a, b)\n",
    "\n",
    "N, M = a, b\n",
    "\n",
    "# 处理\n",
    "\n",
    "def is_prime(x : int) -> bool:\n",
    "    if x == 1:\n",
    "        return False\n",
    "    for i in range(2, int(x ** 0.5) + 1):\n",
    "        if x % i == 0: # 不是素数\n",
    "            return False\n",
    "    return True\n",
    "\n",
    "# for i in range(1, 30):\n",
    "#     print(i, is_prime(i))\n",
    "\n",
    "if N > M:\n",
    "    N, M = M, N\n",
    "\n",
    "# ans = []\n",
    "for p in range(N, M-1): # p in [N, M-1) = [N, M - 2], p + 2 in [N + 2, M]\n",
    "    if is_prime(p) and is_prime(p+2):\n",
    "        # 输出\n",
    "        print(str(p) + \";\" + str(p + 2))\n",
    "        # ans.append([p, p+2])\n",
    "\n",
    "\n"
   ]
  },
  {
   "cell_type": "code",
   "execution_count": null,
   "metadata": {},
   "outputs": [],
   "source": []
  }
 ],
 "metadata": {
  "kernelspec": {
   "display_name": "base",
   "language": "python",
   "name": "python3"
  },
  "language_info": {
   "codemirror_mode": {
    "name": "ipython",
    "version": 3
   },
   "file_extension": ".py",
   "mimetype": "text/x-python",
   "name": "python",
   "nbconvert_exporter": "python",
   "pygments_lexer": "ipython3",
   "version": "3.12.4"
  }
 },
 "nbformat": 4,
 "nbformat_minor": 2
}

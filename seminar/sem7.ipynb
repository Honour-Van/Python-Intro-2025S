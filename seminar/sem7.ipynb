{
 "cells": [
  {
   "cell_type": "markdown",
   "metadata": {},
   "source": [
    "# 0410第7次上机：组合数据结构（2）\n"
   ]
  },
  {
   "cell_type": "markdown",
   "metadata": {},
   "source": [
    "## 1. 字典、集合补充\n",
    "\n",
    "1）字典 dict 和集合 set 都是**无序**数据结构，区别于序列数据结构list、tuple等。\n",
    "\n",
    "这种无序是和计算机存储密切相关的，比如我们默认一个二分的结构："
   ]
  },
  {
   "cell_type": "code",
   "execution_count": null,
   "metadata": {},
   "outputs": [],
   "source": [
    "# set:\n",
    "#       A\n",
    "#      / \\\n",
    "#     B   C\n",
    "#    / \\   \\\n",
    "#   D   E   F\n",
    "#      / \\\n",
    "#     G   H\n",
    "\n",
    "# list:\n",
    "# A → B → C → D → E → F → G → H\n",
    "\n",
    "# dict：增加一个“查找表”，比如我们建立一个从str到int的映射，本质上就是将查找集合结构之后，把对应节点的项取出来\n",
    "# A -> 1\n",
    "# B -> 10\n",
    "# ...\n",
    "# H -> 100"
   ]
  },
  {
   "cell_type": "markdown",
   "metadata": {},
   "source": [
    "\n",
    "2）集合和字典在逻辑抽象上等同于高一数学的集合和映射。\n",
    "\n",
    "### 1.1 集合\n",
    "\n",
    "接口很多很杂？采用如下的思考/记忆方式：\n",
    "\n",
    "|**类型**|**口诀**|**要求**|\n",
    "|---|---|---|\n",
    "|元素操作|增、删、改、查（CRUD）|add、in需要记忆|\n",
    "|逻辑运算|交并补集，空集|会做作业即可（见课件）|\n",
    "|遍历|for i in s|必须掌握|"
   ]
  },
  {
   "cell_type": "markdown",
   "metadata": {},
   "source": [
    "考试可能会考的："
   ]
  },
  {
   "cell_type": "code",
   "execution_count": null,
   "metadata": {},
   "outputs": [
    {
     "name": "stdout",
     "output_type": "stream",
     "text": [
      "True\n",
      "True\n",
      "1\n",
      "2\n",
      "3\n",
      "1 in s\n",
      "4 not in s\n"
     ]
    }
   ],
   "source": [
    "# 初始化集合\n",
    "s = set()  # 不能 {} 会生成一个空字典\n",
    "\n",
    "# 判断空集\n",
    "print(len(s) == 0)      # True\n",
    "print(not s)            # True（推荐）\n",
    "\n",
    "# 初始化一个有元素的集合\n",
    "s = {1, 2, 3}\n",
    "\n",
    "for item in s:\n",
    "    print(item)\n",
    "\n",
    "\n",
    "if 1 in s:\n",
    "    print(\"1 in s\")\n",
    "else:\n",
    "    print(\"1 not in s\")\n",
    "if 4 in s:\n",
    "    print(\"4 in s\")\n",
    "else:\n",
    "    print(\"4 not in s\")\n"
   ]
  },
  {
   "cell_type": "markdown",
   "metadata": {},
   "source": [
    "作业题需要会的（增删改查）："
   ]
  },
  {
   "cell_type": "code",
   "execution_count": null,
   "metadata": {},
   "outputs": [],
   "source": [
    "s = {1, 2, 3}\n",
    "\n",
    "# 增：add() 添加单个元素，update() 添加多个元素\n",
    "s.add(4)          # {1, 2, 3, 4}\n",
    "s.update([5, 6])  # {1, 2, 3, 4, 5, 6}\n",
    "\n",
    "# 删：remove() 删除指定元素（不存在则报错），discard() 删除（不报错），pop() 随机删除\n",
    "s.remove(1)       # {2, 3, 4, 5, 6}\n",
    "s.discard(10)     # 无变化（不报错）\n",
    "s.pop()           # 随机删除一个元素，如 2\n",
    "\n",
    "# 改：集合元素不可直接修改，只能先删后增\n",
    "s.discard(3)\n",
    "s.add(30)         # {30, 4, 5, 6}\n",
    "\n",
    "# 查：用 in 判断元素是否存在\n",
    "print(4 in s)     # True\n",
    "print(10 in s)    # False"
   ]
  },
  {
   "cell_type": "markdown",
   "metadata": {},
   "source": [
    "### 1.2 字典\n",
    "\n",
    "理解一个概念键-值对（key-value pair），就相当于映射中的定义域（key的集合）和值域（value的集合）。\n",
    "\n",
    "| **类型**       | **口诀**                | **要求**                     |\n",
    "|---------------|-------------------------|-----------------------------|\n",
    "| **元素操作**   | 增删改查（CRUD）        | `d[key] = value` 必须掌握    |\n",
    "| **逻辑运算**   | 无直接运算              | 需手动实现（如键的交并）     |\n",
    "| **遍历**       | `keys()`, `values()`, `items()` | **必须掌握**               |\n",
    "\n",
    "必会考点："
   ]
  },
  {
   "cell_type": "code",
   "execution_count": null,
   "metadata": {},
   "outputs": [
    {
     "name": "stdout",
     "output_type": "stream",
     "text": [
      "20\n",
      "默认值\n",
      "b 20\n",
      "c 3\n"
     ]
    }
   ],
   "source": [
    "# 声明空字典\n",
    "d = dict()\n",
    "d = {}\n",
    "\n",
    "# 声明有键值对的字典\n",
    "d = {\"a\": 1, \"b\": 2}\n",
    "\n",
    "# 增：直接赋值\n",
    "d[\"c\"] = 3         # {\"a\": 1, \"b\": 2, \"c\": 3}\n",
    "\n",
    "# 删：pop() 删除指定键\n",
    "d.pop(\"a\")         # {\"b\": 2, \"c\": 3}\n",
    "\n",
    "# 改：直接赋值修改\n",
    "d[\"b\"] = 20        # {\"b\": 20, \"c\": 3}\n",
    "\n",
    "# 查：get() 或直接访问\n",
    "print(d[\"b\"])      # 20\n",
    "print(d.get(\"d\", \"默认值\"))  # \"默认值\"（键不存在时返回默认值）\n",
    "\n",
    "# 遍历\n",
    "for k, v in d.items():\n",
    "    print(k, v)\n"
   ]
  },
  {
   "cell_type": "markdown",
   "metadata": {},
   "source": [
    "必会题型模板：统计"
   ]
  },
  {
   "cell_type": "code",
   "execution_count": 5,
   "metadata": {},
   "outputs": [
    {
     "name": "stdout",
     "output_type": "stream",
     "text": [
      "hello 2\n",
      "world 1\n",
      "python 1\n"
     ]
    }
   ],
   "source": [
    "words = \"hello world hello python\".split()\n",
    "count_dict = {}\n",
    "\n",
    "for word in words:\n",
    "    # 方法1：直接判断key是否存在\n",
    "    if word in count_dict:\n",
    "        count_dict[word] += 1\n",
    "    else:\n",
    "        count_dict[word] = 1\n",
    "    # 方法2（推荐）：用get()方法设置默认值\n",
    "    # count_dict[word] = count_dict.get(word, 0) + 1\n",
    "\n",
    "for k, v in count_dict.items():\n",
    "    print(k, v)"
   ]
  },
  {
   "cell_type": "code",
   "execution_count": null,
   "metadata": {},
   "outputs": [],
   "source": []
  }
 ],
 "metadata": {
  "kernelspec": {
   "display_name": "base",
   "language": "python",
   "name": "python3"
  },
  "language_info": {
   "codemirror_mode": {
    "name": "ipython",
    "version": 3
   },
   "file_extension": ".py",
   "mimetype": "text/x-python",
   "name": "python",
   "nbconvert_exporter": "python",
   "pygments_lexer": "ipython3",
   "version": "3.12.4"
  }
 },
 "nbformat": 4,
 "nbformat_minor": 2
}
